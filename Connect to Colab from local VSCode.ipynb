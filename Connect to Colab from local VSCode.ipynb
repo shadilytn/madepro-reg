{
  "cells": [
    {
      "cell_type": "markdown",
      "metadata": {
        "id": "view-in-github",
        "colab_type": "text"
      },
      "source": [
        "<a href=\"https://colab.research.google.com/github/shadilytn/madepro-reg/blob/master/Connect%20to%20Colab%20from%20local%20VSCode.ipynb\" target=\"_parent\"><img src=\"https://colab.research.google.com/assets/colab-badge.svg\" alt=\"Open In Colab\"/></a>"
      ]
    },
    {
      "cell_type": "markdown",
      "metadata": {
        "id": "DwG_UrX4W22A"
      },
      "source": [
        "# How to Connect to VSCode to Colab\n",
        "\n",
        "- toc: true\n",
        "- badges: true\n",
        "- comments: true\n",
        "- image: images/vscode-colab.jpeg\n",
        "- hide: false\n",
        "- categories: [deep-learning-setup, vscode, google-colab]"
      ]
    },
    {
      "cell_type": "markdown",
      "metadata": {
        "id": "OiiaYvn0W224"
      },
      "source": [
        "## What is colab-ssh?"
      ]
    },
    {
      "cell_type": "markdown",
      "metadata": {
        "id": "BiqKbEHnW226"
      },
      "source": [
        "We'll be using the package called [`colab-ssh`](https://github.com/WassimBenzarti/colab-ssh). It's a package that uses either Cloudflare or Ngrok to connect to a Colab instance.\n",
        "\n",
        "This is NOT the same as using Codespaces in your browser, like the approach taken with [`colabcode`](https://github.com/abhishekkrthakur/colabcode). For now, I much prefer using `colab-ssh` because it allows me to use a local VSCode rather than one in the browser.\n",
        "\n",
        "I'll be using `colab-ssh` for my own projects and see how it goes. It's a cheap way to do deep learning, but I'm still not certain if errors and timeouts will bug me enough to stop using it. I think it'll be fine, though! I'll likely use it just to run hyperparameter sweeps and other experiments. I think that's the ideal use for it.\n",
        "\n",
        "Now, let's get started. First we need to run code in Colab."
      ]
    },
    {
      "cell_type": "markdown",
      "metadata": {
        "id": "l0AT3bSGW229"
      },
      "source": [
        "## Code we need to run in Colab"
      ]
    },
    {
      "cell_type": "markdown",
      "metadata": {
        "id": "pjweYbqZW22-"
      },
      "source": [
        "First we can mount our Google Drive so that we have access files or data that we need:"
      ]
    },
    {
      "cell_type": "code",
      "execution_count": 1,
      "metadata": {
        "colab": {
          "base_uri": "https://localhost:8080/"
        },
        "id": "taQ6-OGMW23C",
        "outputId": "5a5240b3-b16c-4da2-8df5-0773296dcf10"
      },
      "outputs": [
        {
          "output_type": "stream",
          "name": "stdout",
          "text": [
            "Mounted at /content/drive\n"
          ]
        }
      ],
      "source": [
        "from google.colab import drive\n",
        "drive.mount(\"/content/drive\")"
      ]
    },
    {
      "cell_type": "markdown",
      "metadata": {
        "id": "w3dqzJJ2W23H"
      },
      "source": [
        "This part is optional, but you can access a .env file in your Google Drive to access a `PASSWORD` and `GITHUB_ACCESS_TOKEN`:"
      ]
    },
    {
      "cell_type": "code",
      "execution_count": 2,
      "metadata": {
        "id": "bX8tjypLW23K"
      },
      "outputs": [],
      "source": [
        "!pip install python-dotenv --quiet\n",
        "import dotenv\n",
        "import os\n",
        "dotenv.load_dotenv(\n",
        "        os.path.join('/content/drive/MyDrive/vscode-ssh', '.env')\n",
        "    )\n",
        "password = os.getenv('PASSWORD')\n",
        "github_access_token = os.getenv('GITHUB_ACCESS_TOKEN')"
      ]
    },
    {
      "cell_type": "markdown",
      "metadata": {
        "id": "1ih9b1S5W23N"
      },
      "source": [
        "Here we will add the url to the github repo we would like to work on:"
      ]
    },
    {
      "cell_type": "code",
      "execution_count": 3,
      "metadata": {
        "id": "85jfX2XCW23R"
      },
      "outputs": [],
      "source": [
        "git_repo = '<link_to_git_repo>'"
      ]
    },
    {
      "cell_type": "markdown",
      "metadata": {
        "id": "rgQFN8P0W23U"
      },
      "source": [
        "Now we can install `colab-ssh` and import it:"
      ]
    },
    {
      "cell_type": "code",
      "execution_count": 4,
      "metadata": {
        "id": "pWDRz-piW23V"
      },
      "outputs": [],
      "source": [
        "# Install colab_ssh on google colab\n",
        "!pip install colab_ssh --upgrade --quiet\n",
        "from colab_ssh import launch_ssh_cloudflared, init_git_cloudflared"
      ]
    },
    {
      "cell_type": "markdown",
      "metadata": {
        "id": "yoRb7H85W23V"
      },
      "source": [
        "Finally, we create the ssh connection and also add our github repo:"
      ]
    },
    {
      "cell_type": "code",
      "execution_count": 5,
      "metadata": {
        "colab": {
          "base_uri": "https://localhost:8080/",
          "height": 589
        },
        "id": "JGdB6q1bW23r",
        "outputId": "6632a3b4-f444-4404-b461-20a1a122c2ba"
      },
      "outputs": [
        {
          "output_type": "display_data",
          "data": {
            "text/plain": [
              "<IPython.core.display.HTML object>"
            ],
            "text/html": [
              "<style>\n",
              "*{\n",
              "\toutline:none;\n",
              "}\n",
              "code{\n",
              "\tdisplay:inline-block;\n",
              "\tpadding:5px 10px;\n",
              "\tbackground: #444;\n",
              "\tborder-radius: 4px;\n",
              "\twhite-space: pre-wrap;\n",
              "\tposition:relative;\n",
              "\tcolor:white;\n",
              "}\n",
              ".copy-code-button{\n",
              "\tfloat:right;\n",
              "\tbackground:#333;\n",
              "\tcolor:white;\n",
              "\tborder: none;\n",
              "\tmargin: 0 0 0 10px;\n",
              "\tcursor: pointer;\n",
              "}\n",
              "p, li{\n",
              "\tmax-width:700px;\n",
              "}\n",
              ".choices{\n",
              "\tdisplay:flex;\n",
              "\tflex: 1 0 auto;\n",
              "}\n",
              ".choice-section{\n",
              "\tborder:solid 1px #555;\n",
              "\tborder-radius: 4px;\n",
              "\tmin-width:300px;\n",
              "\tmargin: 10px 15px 0 0;\n",
              "\tpadding: 0 15px 15px 15px ;\n",
              "}\n",
              ".button{\n",
              "\tpadding: 10px 15px;\n",
              "\tbackground:#333;\n",
              "\tborder-radius: 4px;\n",
              "\tborder:solid 1px #555;\n",
              "\tcolor:white;\n",
              "\tfont-weight:bold;\n",
              "\tcursor:pointer;\n",
              "}\n",
              ".pill{\n",
              "\tpadding:2px 4px;\n",
              "\tborder-radius: 100px;\n",
              "\tbackground-color:#e65858;\n",
              "\tfont-size:12px;\n",
              "\tfont-weight:bold;\n",
              "\tmargin: 0 15px;\n",
              "\tcolor:white;\n",
              "}\n",
              "</style>\n",
              "<details class=\"choice-section\">\n",
              "\t<summary style=\"cursor:pointer\">\n",
              "\t\t<h3 style=\"display:inline-block;margin-top:15px\">⚙️ Client machine configuration<span class=\"pill\">Required</span></h3>\n",
              "\t</summary>\n",
              "\t<p>Don't worry, you only have to do this <b>once per client machine</b>.</p>\n",
              "\t<ol>\n",
              "\t\t<li>Download <a href=\"https://developers.cloudflare.com/argo-tunnel/getting-started/installation\">Cloudflared (Argo Tunnel)</a>, then copy the absolute path of the cloudflare binary</li>\n",
              "\t\t<li>Now, you have to append the following to your SSH config file (usually under ~/.ssh/config), and make sure you replace the placeholder with the path you copied in Step 1:</li>\n",
              "\t</ol>\n",
              "\t<code>Host *.trycloudflare.com\n",
              "\tHostName %h\n",
              "\tUser root\n",
              "\tPort 22\n",
              "\tProxyCommand &ltPUT_THE_ABSOLUTE_CLOUDFLARE_PATH_HERE&gt access ssh --hostname %h\n",
              "\t</code>\n",
              "</details>\n",
              "<div class=\"choices\">\n",
              "\t<div class=\"choice-section\">\n",
              "\t\t<h4>SSH Terminal</h4>\n",
              "\t\t<p>To connect using your terminal, type this command:</p>\n",
              "\t\t<code>ssh turtle-waiting-evanescence-tf.trycloudflare.com</code>\n",
              "\t</div>\n",
              "\t<div class=\"choice-section\">\n",
              "\t\t<h4>VSCode Remote SSH</h4>\n",
              "\t\t<p>You can also connect with VSCode Remote SSH (Ctrl+Shift+P and type \"Connect to Host...\"). Then, paste the following hostname in the opened command palette:</p>\n",
              "\t\t<code>turtle-waiting-evanescence-tf.trycloudflare.com</code>\n",
              "\t</div>\n",
              "</div>\n",
              "\n",
              "<script>\n",
              "// Copy any string\n",
              "function fallbackCopyTextToClipboard(text) {\n",
              "  var textArea = document.createElement(\"textarea\");\n",
              "  textArea.value = text;\n",
              "  \n",
              "  // Avoid scrolling to bottom\n",
              "  textArea.style.top = \"0\";\n",
              "  textArea.style.left = \"0\";\n",
              "  textArea.style.position = \"fixed\";\n",
              "\n",
              "  document.body.appendChild(textArea);\n",
              "  textArea.focus();\n",
              "  textArea.select();\n",
              "\n",
              "  try {\n",
              "    var successful = document.execCommand('copy');\n",
              "    var msg = successful ? 'successful' : 'unsuccessful';\n",
              "    console.log('Fallback: Copying text command was ' + msg);\n",
              "  } catch (err) {\n",
              "    console.error('Fallback: Oops, unable to copy', err);\n",
              "  }\n",
              "\n",
              "  document.body.removeChild(textArea);\n",
              "}\n",
              "\n",
              "// Show the copy button with every code tag\n",
              "document.querySelectorAll('code').forEach(function (codeBlock) {\n",
              "\tconst codeToCopy= codeBlock.innerText;\n",
              "\tvar pre = document.createElement('pre');\n",
              "\tpre.innerText = codeToCopy;\n",
              "    var button = document.createElement('button');\n",
              "    button.className = 'copy-code-button';\n",
              "    button.type = 'button';\n",
              "    button.innerText = 'Copy';\n",
              "\tbutton.onclick = function(){\n",
              "\t\tfallbackCopyTextToClipboard(codeToCopy);\n",
              "\t\tbutton.innerText = 'Copied'\n",
              "\t\tsetTimeout(()=>{\n",
              "\t\t\tbutton.innerText = 'Copy'\n",
              "\t\t},2000)\n",
              "\t}\n",
              "\tcodeBlock.children = pre;\n",
              "\tcodeBlock.prepend(button)\n",
              "});\n",
              "</script>\n"
            ]
          },
          "metadata": {}
        },
        {
          "output_type": "error",
          "ename": "ValueError",
          "evalue": "ignored",
          "traceback": [
            "\u001b[0;31m---------------------------------------------------------------------------\u001b[0m",
            "\u001b[0;31mValueError\u001b[0m                                Traceback (most recent call last)",
            "\u001b[0;32m<ipython-input-5-4876c03bffab>\u001b[0m in \u001b[0;36m<cell line: 2>\u001b[0;34m()\u001b[0m\n\u001b[1;32m      1\u001b[0m \u001b[0mlaunch_ssh_cloudflared\u001b[0m\u001b[0;34m(\u001b[0m\u001b[0mpassword\u001b[0m\u001b[0;34m)\u001b[0m\u001b[0;34m\u001b[0m\u001b[0;34m\u001b[0m\u001b[0m\n\u001b[0;32m----> 2\u001b[0;31m init_git_cloudflared(repository_url=git_repo + \".git\",\n\u001b[0m\u001b[1;32m      3\u001b[0m          \u001b[0mpersonal_token\u001b[0m\u001b[0;34m=\u001b[0m\u001b[0mgithub_access_token\u001b[0m\u001b[0;34m,\u001b[0m\u001b[0;34m\u001b[0m\u001b[0;34m\u001b[0m\u001b[0m\n\u001b[1;32m      4\u001b[0m          \u001b[0mbranch\u001b[0m\u001b[0;34m=\u001b[0m\u001b[0;34m\"main\"\u001b[0m\u001b[0;34m,\u001b[0m\u001b[0;34m\u001b[0m\u001b[0;34m\u001b[0m\u001b[0m\n\u001b[1;32m      5\u001b[0m          \u001b[0memail\u001b[0m\u001b[0;34m=\u001b[0m\u001b[0;34m\"<email_for_github>\"\u001b[0m\u001b[0;34m,\u001b[0m\u001b[0;34m\u001b[0m\u001b[0;34m\u001b[0m\u001b[0m\n",
            "\u001b[0;32m/usr/local/lib/python3.10/dist-packages/colab_ssh/init_git.py\u001b[0m in \u001b[0;36minit_git\u001b[0;34m(repository_url, branch, personal_token, email, username, cloudflared, verbose)\u001b[0m\n\u001b[1;32m     57\u001b[0m   \u001b[0mrepository_info\u001b[0m \u001b[0;34m=\u001b[0m \u001b[0mrepository_regex\u001b[0m\u001b[0;34m.\u001b[0m\u001b[0mmatch\u001b[0m\u001b[0;34m(\u001b[0m\u001b[0mrepository_url\u001b[0m\u001b[0;34m)\u001b[0m\u001b[0;34m\u001b[0m\u001b[0;34m\u001b[0m\u001b[0m\n\u001b[1;32m     58\u001b[0m   \u001b[0;32mif\u001b[0m \u001b[0mrepository_info\u001b[0m \u001b[0;32mis\u001b[0m \u001b[0;32mNone\u001b[0m\u001b[0;34m:\u001b[0m\u001b[0;34m\u001b[0m\u001b[0;34m\u001b[0m\u001b[0m\n\u001b[0;32m---> 59\u001b[0;31m     raise ValueError(\n\u001b[0m\u001b[1;32m     60\u001b[0m         \"The repository URL must be from Github or Gitlab.\")\n\u001b[1;32m     61\u001b[0m   \u001b[0mrepository_info\u001b[0m \u001b[0;34m=\u001b[0m \u001b[0mrepository_info\u001b[0m\u001b[0;34m.\u001b[0m\u001b[0mgroupdict\u001b[0m\u001b[0;34m(\u001b[0m\u001b[0;34m)\u001b[0m\u001b[0;34m\u001b[0m\u001b[0;34m\u001b[0m\u001b[0m\n",
            "\u001b[0;31mValueError\u001b[0m: The repository URL must be from Github or Gitlab."
          ]
        }
      ],
      "source": [
        "launch_ssh_cloudflared(password)\n",
        "init_git_cloudflared(repository_url=git_repo + \".git\",\n",
        "         personal_token=github_access_token,\n",
        "         branch=\"main\",\n",
        "         email=\"<email_for_github>\",\n",
        "         username=\"<github_username>\")"
      ]
    },
    {
      "cell_type": "markdown",
      "metadata": {
        "id": "2M5lJxcaW23s"
      },
      "source": [
        "## Setting up Cloudflared\n",
        "\n",
        "After that, you will get the following output:\n",
        "\n",
        "![colab-ssh-output](https://raw.githubusercontent.com/JayThibs/jacques-blog/master/images/colab-ssh-output.png)\n",
        "\n",
        "As it says in \"Client machine configuration\", you will need to download \"cloudflared (Argo Tunnel)\" for your OS. I use Mac so that's the one I downloaded. I downloaded the latest version instead of using `brew install` since that was faster.\n",
        "\n",
        "Anyways, go [here](https://developers.cloudflare.com/cloudflare-one/connections/connect-apps/install-and-setup/installation) and download the binary. Then, untar the file (or execute the .exe?) and then place the `cloudflared` file in whatever local path you prefer.\n",
        "\n",
        "## Setup in VSCode\n",
        "\n",
        "Download Remote - SSH: go into VSCode and go to Extensions (CTRL+SHIFT+P), and search and click on \"Install Extension\". Then, in Extensions, search and download \"Remote - SSH\".\n",
        "\n",
        "Now that we have Remote - SSH, go into Command Palette (CTRL+SHIFT+P), and search and click on \"Remote - SSH: Open SSH Configuration File\". This file is located at `~/.ssh/config`. Go to that file and paste the following:\n",
        "\n",
        "```\n",
        "Host *.trycloudflare.com\n",
        "\tHostName %h\n",
        "\tUser root\n",
        "\tPort 22\n",
        "\tProxyCommand <PUT_THE_ABSOLUTE_CLOUDFLARE_PATH_HERE> access ssh --hostname %h\n",
        "```\n",
        "\n",
        "I'm assuming the port is 22 for everyone. If you have a different port, you can change it based on the output you received.\n",
        "\n",
        "Now, save the config file, copy the \"VSCode Remote SSH\" hostname from the Colab output, and paste it into the text box after clicking on \"Remote - SSH: Connect to Host...\".\n",
        "\n",
        "There should be a new window that opens up.\n",
        "\n",
        "Click continue when a pop-up about a fingerprint appears and then type in the password you passed in to `launch_ssh_cloudflared`. You are now fully connected via ssh!\n",
        "\n",
        "You can now access your GitHub repository via \"Open Folder\" in Explorer. I have not figured out how to changed the repository location yet, but for now, you will need to click on `..` to exit /root/ and then click on `content` and your repository should be there.\n",
        "\n",
        "You will get some cloudflared files added to the root of your repository, you can add them to your .gitignore file.\n",
        "\n",
        "## Additional Tips to Get Started Quickly\n",
        "\n",
        "### Quick Package Installation\n",
        "\n",
        "Once you've set things up, you just need to click Run All in Colab and it goes pretty fast. However, you will still need to reinstall all packages every time you create a new connection since Colab instances are ephemeral.\n",
        "\n",
        "I suggest you either create a `requirements.txt` file, `environment.yml` file, or you use a package like `poetry` to get up and running quickly.\n",
        "\n",
        "Note for Conda: you need to run some extra code in Colab in order to get access to Conda in Colab. Follow the tutorial [here](https://towardsdatascience.com/conda-google-colab-75f7c867a522) if you really want to use Conda. Personally, I would recommend against it since it takes longer to install. Try using pip, pip-tools or poetry instead.\n",
        "\n",
        "In my case, I create a Makefile for every project and then I simply need to enter `make poetry` in the terminal. To create a Makefile, simply create a file called `Makefile` in your project directory. Then, in the Makefile, you can add the following (or whatever installation commands you want for your specific dependency manager):"
      ]
    },
    {
      "cell_type": "code",
      "execution_count": null,
      "metadata": {
        "id": "q6DKDg6UW23t"
      },
      "outputs": [],
      "source": [
        "# Compile and install exact python packages\n",
        "poetry:\n",
        "\tpip install poetry\n",
        "\tpoetry install"
      ]
    },
    {
      "cell_type": "markdown",
      "metadata": {
        "id": "zT0FLxNdW23w"
      },
      "source": [
        "Of course, you can use whatever package manager you prefer.\n",
        "\n",
        "And that's it! You are now ready to start coding!\n",
        "\n",
        "### Use only one Colab Notebook\n",
        "\n",
        "To prevent having to create a notebook for every project, do the following to things:\n",
        "\n",
        "1. Do your package installations in VSCode rather than Colab. Then you only need to install the packages for a specific project.\n",
        "\n",
        "2. Create a cell in your Colab notebook with strings to your github repositories using `git_repo = \"git_repo_url\"`. Just comment out the ones you don't want and uncomment the one you do.\n",
        "\n",
        "This might sound obvious, but I started out by trying to install via Colab when I started out!\n",
        "\n",
        "## Troubleshooting\n",
        "\n",
        "### You are Asked for Username and Password\n",
        "\n",
        "If you are asked for a username and password after launching the SSH connection, that means you are not passing in your GitHub personal access token into `init_git_cloudflared`. Make sure to do that.\n",
        "\n",
        "You can setup your GitHub personal access token by clicking on your icon on the top right on GitHub, clicking on \"Settings\", scroll down and click on \"Developer settings\", and then clicking on \"Personal Access Tokens\". Generate a new token and use it in `init_git_cloudflared`.\n",
        "\n",
        "### If you get: \"Could not establish connection to...\"\n",
        "\n",
        "This could mean a few things, so I'll go over the ones I encountered:\n",
        "\n",
        "1: Your Remote - SSH config file is not correct.\n",
        "\n",
        "Go to \"Remote - SSH: Settings\" and make sure that you are using the correct config file like the one below:\n",
        "\n",
        "![remote-ssh-settings-config](https://raw.githubusercontent.com/JayThibs/jacques-blog/master/images/remote-ssh-settings-config.png)\n",
        "\n",
        "2:  Colab is still running `init_git_cloudflared` because you did not pass it a valid personal access token.\n",
        "\n",
        "### No Access to GPU?\n",
        "\n",
        "Don't forget to go to Runtime > Change Runtime Type and select \"GPU\" in Colab!\n",
        "\n",
        "### Can't Find Repository?\n",
        "\n",
        "If you ran the code on a different repository and then you rerun it on a new repository, this may happen. Do resolve this, just do a factory reset of your Colab instance, and then rerun the code."
      ]
    },
    {
      "cell_type": "markdown",
      "metadata": {
        "id": "Cts2hB_LW230"
      },
      "source": [
        "## That's It!\n",
        "\n",
        "If you have any questions, let me know! Or better yet, go to the [`colab-ssh`](https://github.com/WassimBenzarti/colab-ssh) repo and ask there!\n",
        "\n",
        "If you liked this post, follow me on Twitter for more content like this! And make sure to let me know what kind of content you'd like to see more of!\n",
        "\n",
        "> twitter: https://twitter.com/TheAIDev/status/1442595146210717696?ref_src=twsrc%5Etfw"
      ]
    },
    {
      "cell_type": "markdown",
      "metadata": {
        "id": "J6kp3GyuW231"
      },
      "source": []
    }
  ],
  "metadata": {
    "interpreter": {
      "hash": "8e9a18fee897584348f245f3ed6851049a290baafc4465fb2a04a303ae1e268b"
    },
    "kernelspec": {
      "display_name": "Python 3.7.4 64-bit ('base': conda)",
      "name": "python3"
    },
    "language_info": {
      "codemirror_mode": {
        "name": "ipython",
        "version": 3
      },
      "file_extension": ".py",
      "mimetype": "text/x-python",
      "name": "python",
      "nbconvert_exporter": "python",
      "pygments_lexer": "ipython3",
      "version": "3.7.4"
    },
    "orig_nbformat": 4,
    "colab": {
      "provenance": [],
      "include_colab_link": true
    }
  },
  "nbformat": 4,
  "nbformat_minor": 0
}